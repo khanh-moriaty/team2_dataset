{
  "nbformat": 4,
  "nbformat_minor": 0,
  "metadata": {
    "colab": {
      "name": "Voc2Coco.ipynb",
      "provenance": [],
      "collapsed_sections": [],
      "authorship_tag": "ABX9TyPV75W0JfRz0w/S3Zuxg61y",
      "include_colab_link": true
    },
    "kernelspec": {
      "name": "python3",
      "display_name": "Python 3"
    }
  },
  "cells": [
    {
      "cell_type": "markdown",
      "metadata": {
        "id": "view-in-github",
        "colab_type": "text"
      },
      "source": [
        "<a href=\"https://colab.research.google.com/github/khanh-moriaty/team2_dataset/blob/master/Voc2Coco.ipynb\" target=\"_parent\"><img src=\"https://colab.research.google.com/assets/colab-badge.svg\" alt=\"Open In Colab\"/></a>"
      ]
    },
    {
      "cell_type": "markdown",
      "metadata": {
        "id": "-sqGo8wmlYSr",
        "colab_type": "text"
      },
      "source": [
        "Clone dataset và tool chuyển đổi VOC2COCO từ github:\n"
      ]
    },
    {
      "cell_type": "code",
      "metadata": {
        "id": "t0TAuOXXxdzB",
        "colab_type": "code",
        "colab": {}
      },
      "source": [
        "!git clone https://github.com/khanh-moriaty/voc2coco\n",
        "!git clone https://github.com/khanh-moriaty/team2_dataset"
      ],
      "execution_count": null,
      "outputs": []
    },
    {
      "cell_type": "markdown",
      "metadata": {
        "id": "I5X8apcnkgY7",
        "colab_type": "text"
      },
      "source": [
        "---\n",
        "# Chuyển đổi định dạng label từ VOC 5 classes sang COCO"
      ]
    },
    {
      "cell_type": "markdown",
      "metadata": {
        "id": "sSBrKshWjQNI",
        "colab_type": "text"
      },
      "source": [
        "Khởi tạo các biến đường dẫn cần thiết:"
      ]
    },
    {
      "cell_type": "code",
      "metadata": {
        "id": "VXdAqhuLZkqo",
        "colab_type": "code",
        "colab": {}
      },
      "source": [
        "import os\n",
        "\n",
        "DATASET_TEAM2 = \"/content/team2_dataset/\" # Thư mục dataset\n",
        "DATASET_DIR = os.path.join(DATASET_TEAM2, \"day/label/minhhuy 1/\")\n",
        "\n",
        "LABEL_INPUT = os.path.join(DATASET_TEAM2, \"classes_0-13.txt\")\n",
        "\n",
        "SAMPLE_DIR = \"/content/sample/\"\n",
        "os.makedirs(SAMPLE_DIR, exist_ok=True)\n",
        "\n",
        "LABEL_FILE = os.path.join(SAMPLE_DIR + \"labels.txt\")\n",
        "ANN_PATHS = os.path.join(SAMPLE_DIR + \"ann_paths.txt\")\n",
        "OUTPUT_FILE = os.path.join(SAMPLE_DIR + \"output.json\")"
      ],
      "execution_count": 2,
      "outputs": []
    },
    {
      "cell_type": "markdown",
      "metadata": {
        "id": "PpTTkO5djfP9",
        "colab_type": "text"
      },
      "source": [
        "Tạo danh sách các file cần xử lý <br>\n",
        "Copy file chứa các label class"
      ]
    },
    {
      "cell_type": "code",
      "metadata": {
        "id": "LYMxbfyiLKLg",
        "colab_type": "code",
        "colab": {}
      },
      "source": [
        "dir = os.listdir(DATASET_DIR)\n",
        "dir.sort()\n",
        "\n",
        "with open(ANN_PATHS, 'w') as fo:\n",
        "    for fi in dir:\n",
        "        fo.writelines(os.path.join(DATASET_DIR, fi) + \"\\r\\n\")\n",
        "\n",
        "!cp \"$LABEL_INPUT\" \"$LABEL_FILE\""
      ],
      "execution_count": 3,
      "outputs": []
    },
    {
      "cell_type": "markdown",
      "metadata": {
        "id": "OM2M0chJkATQ",
        "colab_type": "text"
      },
      "source": [
        "Thực thi tool chuyển đổi VOC -> COCO:"
      ]
    },
    {
      "cell_type": "code",
      "metadata": {
        "id": "iU9zFM_7ZMqR",
        "colab_type": "code",
        "colab": {}
      },
      "source": [
        "!cd voc2coco && python voc2coco.py \\\n",
        "--ann_paths_list \"$ANN_PATHS\" \\\n",
        "--labels \"$LABEL_FILE\" \\\n",
        "--output \"$OUTPUT_FILE\" \\\n",
        "--ext xml"
      ],
      "execution_count": null,
      "outputs": []
    },
    {
      "cell_type": "markdown",
      "metadata": {
        "id": "Hx1PivnKka4K",
        "colab_type": "text"
      },
      "source": [
        "---\n",
        "## Chuyển đổi format VOC 14 classes sang VOC 5 classes\n",
        "(Theo quy ước của BTC AI Challenge)"
      ]
    },
    {
      "cell_type": "code",
      "metadata": {
        "id": "yBbXMuKeadZN",
        "colab_type": "code",
        "colab": {}
      },
      "source": [
        "ANN_DIR = \"/content/team2_dataset/day/label/Duc Minh 1/\" # Thư mục chứa những file cần chuyển đổi\n",
        "OUT_DIR = \"/content/output/\" # Thư mục chứa các file sau khi chuyển đổi\n",
        "\n",
        "\n",
        "!cd team2_dataset && python convert14to5.py \\\n",
        "--ann_dir \"$ANN_DIR\" \\\n",
        "--out_dir \"$OUT_DIR\""
      ],
      "execution_count": null,
      "outputs": []
    }
  ]
}